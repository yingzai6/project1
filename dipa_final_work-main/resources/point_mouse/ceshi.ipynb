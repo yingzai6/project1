{
 "cells": [
  {
   "cell_type": "code",
   "execution_count": 3,
   "metadata": {},
   "outputs": [],
   "source": [
    "import cv2\n",
    "import dlib\n",
    "\n",
    "# 加载检测器\n",
    "detector = dlib.get_frontal_face_detector()\n",
    "# 加载预测器\n",
    "predictor = dlib.shape_predictor(\"shape_predictor_68_face_landmarks.dat\")\n",
    "# 读取图片\n",
    "img = cv2.imread(\"open_mouse.jpg\")\n",
    "# 将图片转换为灰度图\n",
    "gray = cv2.cvtColor(src=img, code=cv2.COLOR_BGR2GRAY)\n",
    "# 使用检测器查找人脸\n",
    "faces = detector(gray)\n",
    "for face in faces:\n",
    "    x1 = face.left()  # 左侧点\n",
    "    y1 = face.top()   # 顶部点\n",
    "    x2 = face.right() # 右侧点\n",
    "    y2 = face.bottom()# 底部点\n",
    "    # 寻找关键点\n",
    "    landmarks = predictor(image=gray, box=face)\n",
    "    # 获取指定的关键点\n",
    "    selected_points = [49, 51, 53, 55, 57, 59]\n",
    "    for point in selected_points:\n",
    "        # 由于dlib中的计数从1开始，需要进行调整\n",
    "        part = landmarks.part(point-1)\n",
    "        x = part.x\n",
    "        y = part.y\n",
    "        # 在每个关键点位置画圆\n",
    "        cv2.circle(img=img, center=(x, y), radius=3, color=(0, 255, 0), thickness=-1)\n",
    "\n",
    "# 显示图片\n",
    "cv2.imshow(winname=\"Face\", mat=img)\n",
    "# 等待按键以退出\n",
    "cv2.waitKey(delay=0)\n",
    "# 关闭所有窗口\n",
    "cv2.destroyAllWindows()"
   ]
  }
 ],
 "metadata": {
  "kernelspec": {
   "display_name": "py3_7_5",
   "language": "python",
   "name": "python3"
  },
  "language_info": {
   "codemirror_mode": {
    "name": "ipython",
    "version": 3
   },
   "file_extension": ".py",
   "mimetype": "text/x-python",
   "name": "python",
   "nbconvert_exporter": "python",
   "pygments_lexer": "ipython3",
   "version": "3.7.5"
  }
 },
 "nbformat": 4,
 "nbformat_minor": 2
}
