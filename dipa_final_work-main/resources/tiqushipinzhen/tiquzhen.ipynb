{
 "cells": [
  {
   "cell_type": "code",
   "execution_count": 1,
   "metadata": {},
   "outputs": [],
   "source": [
    "import cv2\n",
    "\n",
    "# 打开视频文件\n",
    "video = cv2.VideoCapture('./data/example_4.avi')\n",
    "\n",
    "# 初始化帧数计数器\n",
    "frame_count = 0\n",
    "\n",
    "while True:\n",
    "    # 读取视频的下一帧\n",
    "    ret, frame = video.read()\n",
    "\n",
    "    # 如果成功读取帧，ret将返回True\n",
    "    if not ret:\n",
    "        break   # 如果没有下一帧了，就跳出循环\n",
    "\n",
    "    frame_count += 1\n",
    "\n",
    "    # 保存帧到文件\n",
    "    cv2.imwrite(f'frame{frame_count}.jpg', frame)\n",
    "\n",
    "video.release()  # 释放视频文件\n",
    "cv2.destroyAllWindows()  # 销毁所有窗口"
   ]
  }
 ],
 "metadata": {
  "kernelspec": {
   "display_name": "py3_7_5",
   "language": "python",
   "name": "python3"
  },
  "language_info": {
   "codemirror_mode": {
    "name": "ipython",
    "version": 3
   },
   "file_extension": ".py",
   "mimetype": "text/x-python",
   "name": "python",
   "nbconvert_exporter": "python",
   "pygments_lexer": "ipython3",
   "version": "3.7.5"
  }
 },
 "nbformat": 4,
 "nbformat_minor": 2
}
