{
 "cells": [
  {
   "cell_type": "code",
   "execution_count": 2,
   "metadata": {},
   "outputs": [
    {
     "name": "stdout",
     "output_type": "stream",
     "text": [
      "03.avi\n"
     ]
    },
    {
     "ename": "",
     "evalue": "",
     "output_type": "error",
     "traceback": [
      "\u001b[1;31m在当前单元格或上一个单元格中执行代码时 Kernel 崩溃。\n",
      "\u001b[1;31m请查看单元格中的代码，以确定故障的可能原因。\n",
      "\u001b[1;31m单击<a href='https://aka.ms/vscodeJupyterKernelCrash'>此处</a>了解详细信息。\n",
      "\u001b[1;31m有关更多详细信息，请查看 Jupyter <a href='command:jupyter.viewOutput'>log</a>。"
     ]
    }
   ],
   "source": [
    "from scipy.spatial import distance\n",
    "from imutils import face_utils\n",
    "import imutils\n",
    "import dlib\n",
    "import numpy as np\n",
    "import cv2\n",
    "import tkinter as tk\n",
    "from tkinter import filedialog\n",
    "\n",
    "detect = dlib.get_frontal_face_detector()\n",
    "predict = dlib.shape_predictor(\"shape_predictor_68_face_landmarks.dat\")\n",
    "\n",
    "file_path = ''\n",
    "while file_path == '':\n",
    "    file_path = filedialog.askopenfilenames(title='请选择一个视频', initialdir='resources/looking/')\n",
    "choose_file = file_path[0]\n",
    "print(choose_file[-6:])\n",
    "\n",
    "cap = cv2.VideoCapture(choose_file)\n",
    "\n",
    "fps = cap.get(cv2.CAP_PROP_FPS)\n",
    "size = (int(cap.get(cv2.CAP_PROP_FRAME_WIDTH)), int(cap.get(cv2.CAP_PROP_FRAME_HEIGHT)))\n",
    "fourcc = cv2.VideoWriter_fourcc(*'MJPG')\n",
    "out = cv2.VideoWriter('../results/looking/look_sideway_res_'+choose_file[-6:], fourcc, fps, size)\n",
    "\n",
    "while True:\n",
    "    ret, frame = cap.read()\n",
    "    if not ret:\n",
    "        break\n",
    "\n",
    "        # 转换当前帧为灰度图像\n",
    "    gray = cv2.cvtColor(frame, cv2.COLOR_BGR2GRAY)\n",
    "\n",
    "    # 自适应直方图均衡化\n",
    "    clahe = cv2.createCLAHE(clipLimit=2.0, tileGridSize=(8, 8))\n",
    "    clahe_gray = clahe.apply(gray)\n",
    "\n",
    "    # 对CLAHE结果应用高斯模糊，以减少噪声\n",
    "    blur_sigma = 2  # 高斯核的标准偏差，在不同图像上可能需要调整\n",
    "    gaussian_blur = cv2.GaussianBlur(clahe_gray, (5, 5), blur_sigma)\n",
    "\n",
    "    # 使用Canny算法进行边缘检测\n",
    "    low_threshold = 50  # Canny边缘检测的低阈值\n",
    "    high_threshold = 150  # Canny边缘检测的高阈值\n",
    "    canny_edges = cv2.Canny(gaussian_blur, low_threshold, high_threshold)\n",
    "\n",
    "    # 进行形态学变换 - 闭操作\n",
    "    kernel = np.ones((5, 5), np.uint8)\n",
    "    closing = cv2.morphologyEx(canny_edges, cv2.MORPH_CLOSE, kernel)\n",
    "\n",
    "    # 将闭操作后的边缘与原CLAHE图像进行叠加\n",
    "    # 转换闭操作后的边缘图像的数据类型，使其可以与原图像进行加权叠加\n",
    "    closing_for_combination = cv2.convertScaleAbs(closing)\n",
    "    enhanced_edges = cv2.addWeighted(clahe_gray, 0.7, closing_for_combination, 0.3, 0)\n",
    "    \n",
    "    faces = detect(enhanced_edges, 0)\n",
    "    if len(faces) == 0:\n",
    "        cv2.putText(frame, \"looking around\", (10, 30), cv2.FONT_HERSHEY_SIMPLEX, 1.5, (0, 0, 255), 2)\n",
    "    else:\n",
    "        for face in faces:\n",
    "            face_68_point = predict(gray, face)\n",
    "            face_68_point = face_utils.shape_to_np(face_68_point)\n",
    "            \n",
    "            T = 0.7\n",
    "            dx_r = abs(face_68_point[39][0] - face_68_point[27][0])\n",
    "            dx_l = abs(face_68_point[42][0] - face_68_point[27][0])\n",
    "            if dx_r / dx_l < T:\n",
    "                cv2.putText(frame, \"looking around\", (10, 30), cv2.FONT_HERSHEY_SIMPLEX, 1.5, (0, 0, 255), 2)\n",
    "            else:\n",
    "                cv2.putText(frame, \"not looking around\", (10, 30), cv2.FONT_HERSHEY_SIMPLEX, 1.5, (0, 255, 0), 2)\n",
    "    \n",
    "    out.write(frame)\n",
    "    cv2.imshow(\"Frame\", frame)\n",
    "    key = cv2.waitKey(1) & 0xFF\n",
    "    if key == ord(\"q\"):\n",
    "        break\n",
    "\n",
    "cap.release()\n",
    "out.release()\n",
    "cv2.destroyAllWindows()"
   ]
  }
 ],
 "metadata": {
  "kernelspec": {
   "display_name": "py3_7_5",
   "language": "python",
   "name": "python3"
  },
  "language_info": {
   "codemirror_mode": {
    "name": "ipython",
    "version": 3
   },
   "file_extension": ".py",
   "mimetype": "text/x-python",
   "name": "python",
   "nbconvert_exporter": "python",
   "pygments_lexer": "ipython3",
   "version": "3.7.5"
  }
 },
 "nbformat": 4,
 "nbformat_minor": 2
}
